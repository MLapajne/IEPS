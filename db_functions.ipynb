{
 "cells": [
  {
   "cell_type": "code",
   "execution_count": 1,
   "metadata": {},
   "outputs": [],
   "source": [
    "# NOTE: these are not optimized (a new connection is created every time) but should work fine for initial testing"
   ]
  },
  {
   "cell_type": "code",
   "execution_count": 2,
   "metadata": {},
   "outputs": [],
   "source": [
    "import concurrent.futures\n",
    "import threading\n",
    "import psycopg2"
   ]
  },
  {
   "cell_type": "code",
   "execution_count": 3,
   "metadata": {},
   "outputs": [
    {
     "name": "stdout",
     "output_type": "stream",
     "text": [
      "\n",
      "Inserting values into site\n"
     ]
    }
   ],
   "source": [
    "# insert data for site\n",
    "def insert_site_data(domain, robots_content, crawl_delay, sitemap_content):\n",
    "    conn = psycopg2.connect(host=\"localhost\", user=\"user\", password=\"SecretPassword\")\n",
    "    conn.autocommit = True\n",
    "\n",
    "    print(\"\\nInserting values into site\")\n",
    "    cur = conn.cursor()\n",
    "    cur.execute(\"INSERT into crawldb.site (domain, robots_content, crawl_delay, sitemap_content) VALUES (%s, %s, %s, %s)\", (domain, robots_content, crawl_delay, sitemap_content))\n",
    "    \n",
    "    cur.close()\n",
    "    conn.close()\n",
    "    \n",
    "\n",
    "# testing\n",
    "# insert_site_data(\"http://bbbb.si\", \"robots content string\", 5, \"sitemap content string\")\n",
    "# insert_site_data(\"http://ccccc.si\", \"robots content string\", 2, \"sitemap content string\")\n",
    "# insert_site_data(\"http://ddd.si\", \"robots content string\", 5.5, \"sitemap content string\")"
   ]
  },
  {
   "cell_type": "code",
   "execution_count": 5,
   "metadata": {},
   "outputs": [
    {
     "name": "stdout",
     "output_type": "stream",
     "text": [
      "Getting site ID\n",
      "Site ID: 4\n",
      "Inserting url into frontier\n"
     ]
    }
   ],
   "source": [
    "# insert url into frontier - inserts into table 'page' with the page_type_code value set to FRONTIER\n",
    "def insert_page_into_frontier(domain, url):\n",
    "    conn = psycopg2.connect(host=\"localhost\", user=\"user\", password=\"SecretPassword\")\n",
    "    conn.autocommit = True\n",
    "\n",
    "    print(\"Getting site ID\")\n",
    "    cur = conn.cursor()\n",
    "\n",
    "    # get id of domain url\n",
    "    cur.execute(\"SELECT id FROM crawldb.site WHERE domain= %s\", (domain,))\n",
    "    site_id = cur.fetchone()[0]\n",
    "    \n",
    "    print(\"Site ID: {}\".format(site_id))\n",
    "\n",
    "    print(\"Inserting url into frontier\")\n",
    "\n",
    "    cur.execute(\"INSERT into crawldb.page (site_id, url, page_type_code) VALUES (%s, %s, 'FRONTIER')\", (site_id, url))\n",
    "    \n",
    "    cur.close()\n",
    "    conn.close()\n",
    "\n",
    "\n",
    "# testing\n",
    "# insert_page_into_frontier(\"http://bbbb.si\", \"https://bbbb.si/page2\")\n",
    "# insert_page_into_frontier(\"http://bbbb.si\", \"https://bbbb.si/page3\")\n",
    "# insert_page_into_frontier(\"http://ccccc.si\", \"http://ccccc.si/page1\")\n",
    "# insert_page_into_frontier(\"http://ccccc.si\", \"http://ccccc.si/page2\")\n",
    "# insert_page_into_frontier(\"http://ccccc.si\", \"http://ccccc.si/page3\")"
   ]
  },
  {
   "cell_type": "code",
   "execution_count": 7,
   "metadata": {},
   "outputs": [
    {
     "name": "stdout",
     "output_type": "stream",
     "text": [
      "\n",
      "Inserting values into page\n"
     ]
    }
   ],
   "source": [
    "# when site is crawled, update table 'page' with obtained data\n",
    "def update_page_data(url, page_type_code, html_content, content_hash, http_status_code, accessed_time):\n",
    "    conn = psycopg2.connect(host=\"localhost\", user=\"user\", password=\"SecretPassword\")\n",
    "    conn.autocommit = True\n",
    "\n",
    "    print(\"\\nInserting values into page\")\n",
    "    cur = conn.cursor()\n",
    "    cur.execute(\"UPDATE crawldb.page SET page_type_code= %s, html_content= %s, content_hash = %s, http_status_code= %s, accessed_time= %s \\\n",
    "                WHERE url= %s\", (page_type_code, html_content, content_hash, http_status_code, accessed_time, url))\n",
    "    \n",
    "    cur.close()\n",
    "    conn.close()\n",
    "    \n",
    "# testing\n",
    "# update_page_data(\"https://bbbb.si/asdasdas/asdas\", \"HTML\", \"<head>asdasdas</head>\", \"aphufogfdfakjnlskxcj\", 200, '2022-07-01 00:00:00')\n",
    "# update_page_data(\"https://bbbb.si/page2\", \"HTML\", \"<head>page 2 bbbb</head>\", \"oaisdjoaisjdojasodj\", 200, '2022-07-01 00:00:00')\n",
    "# update_page_data(\"http://ccccc.si/page1\", \"HTML\", \"<head>page1 cccc</head>\", \"zfzzfzflnjasdln\", 200, '2022-07-01 00:00:00')\n"
   ]
  },
  {
   "cell_type": "code",
   "execution_count": 8,
   "metadata": {},
   "outputs": [
    {
     "name": "stdout",
     "output_type": "stream",
     "text": [
      "Getting page url\n",
      "https://bbbb.si/page3\n"
     ]
    }
   ],
   "source": [
    "# get url of first page from frontier\n",
    "def get_first_page_from_frontier():\n",
    "    conn = psycopg2.connect(host=\"localhost\", user=\"user\", password=\"SecretPassword\")\n",
    "    conn.autocommit = True\n",
    "\n",
    "    print(\"Getting page url\")\n",
    "    cur = conn.cursor()\n",
    "\n",
    "    # get url of first page with code set to FRONTIER\n",
    "    cur.execute(\"SELECT url FROM crawldb.page WHERE page_type_code = 'FRONTIER'\")\n",
    "    page_url = cur.fetchone()[0]\n",
    "    \n",
    "    print(page_url)\n",
    "    \n",
    "    cur.close()\n",
    "    conn.close()\n",
    "\n",
    "get_first_page_from_frontier()"
   ]
  }
 ],
 "metadata": {
  "kernelspec": {
   "display_name": "Python 3 (ipykernel)",
   "language": "python",
   "name": "python3"
  },
  "language_info": {
   "codemirror_mode": {
    "name": "ipython",
    "version": 3
   },
   "file_extension": ".py",
   "mimetype": "text/x-python",
   "name": "python",
   "nbconvert_exporter": "python",
   "pygments_lexer": "ipython3",
   "version": "3.9.16"
  }
 },
 "nbformat": 4,
 "nbformat_minor": 2
}
